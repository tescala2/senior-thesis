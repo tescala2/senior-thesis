{
 "cells": [
  {
   "cell_type": "code",
   "execution_count": 1,
   "metadata": {},
   "outputs": [],
   "source": [
    "import numpy as np\n",
    "import matplotlib.pyplot as plt\n",
    "%matplotlib inline\n",
    "import pandas as pd"
   ]
  },
  {
   "cell_type": "code",
   "execution_count": 16,
   "metadata": {},
   "outputs": [
    {
     "data": {
      "text/plain": [
       "(3, 3)"
      ]
     },
     "execution_count": 16,
     "metadata": {},
     "output_type": "execute_result"
    }
   ],
   "source": [
    "a = np.random.randn(3, 3)\n",
    "b = np.random.randn(3, 1)\n",
    "c = a*b\n",
    "c.shape"
   ]
  },
  {
   "cell_type": "code",
   "execution_count": null,
   "metadata": {},
   "outputs": [],
   "source": [
    "def Kuzmin(R,M,a):\n",
    "    v_vals = []\n",
    "    G = 6.67*10**(-11)\n",
    "    for i in np.linspace(0,R,num=10000):\n",
    "        v = ((G*M*i**2)/((i**2+a**2)**(3/2)))**(1/2)\n",
    "        v_vals.append(v)\n",
    "    plt.plot(np.linspace(0,R,num=10000),v_vals)"
   ]
  },
  {
   "cell_type": "code",
   "execution_count": null,
   "metadata": {},
   "outputs": [],
   "source": [
    "v_Kuzmin = Kuzmin(10**20,10**40,10**19)"
   ]
  },
  {
   "cell_type": "code",
   "execution_count": 3,
   "metadata": {},
   "outputs": [],
   "source": [
    "def MN(R,M,a,b):\n",
    "    v_vals = []\n",
    "    G = 6.67*10**(-11)\n",
    "    for i in np.linspace(0,R,num=10000):\n",
    "        v = ((G*M*i**2)/((i**2+(a+b)**2)**(3/2)))**(1/2)\n",
    "        v_vals.append(v)\n",
    "    return v_vals"
   ]
  },
  {
   "cell_type": "code",
   "execution_count": null,
   "metadata": {},
   "outputs": [],
   "source": [
    "# comparing changes in a and b\n",
    "\n",
    "R=10**20\n",
    "\n",
    "v_MN1 = MN(10**20,10**40,10**19,10**19)\n",
    "v_MN2 = MN(10**20,10**40,10**18,10**18)\n",
    "v_MN3 = MN(10**20,10**40,10**20,10**20)\n",
    "v_MN4 = MN(10**20,10**40,10**19,10**18)\n",
    "v_MN5 = MN(10**20,10**40,10**20,10**18)\n",
    "\n",
    "plt.plot(np.linspace(0,R,num=10000),v_MN1,label='a=1e19, b=1e19')\n",
    "plt.plot(np.linspace(0,R,num=10000),v_MN2,label='a=1e18, b=1e18')\n",
    "plt.plot(np.linspace(0,R,num=10000),v_MN3,label='a=1e20, b=1e20')\n",
    "plt.plot(np.linspace(0,R,num=10000),v_MN4,label='a=1e19, b=1e18')\n",
    "plt.plot(np.linspace(0,R,num=10000),v_MN5,label='a=1e20, b=1e18')\n",
    "\n",
    "\n",
    "plt.xlabel('Radius (m)')\n",
    "plt.ylabel('Velocity (m/s)')\n",
    "plt.legend()\n",
    "plt.title('Comparing Changes in a and b')"
   ]
  },
  {
   "cell_type": "code",
   "execution_count": null,
   "metadata": {},
   "outputs": [],
   "source": [
    "def Kuzmin_EUP(R,M,a):\n",
    "    \n",
    "    G = 6.67*10**(-11)\n",
    "    c = 3*10**8\n",
    "    L_star = 10**13\n",
    "    EUP = (1+(4*G**2*M**2)/(c**4*L_star**2))\n",
    "    \n",
    "    v_vals = []\n",
    "    \n",
    "    for i in np.linspace(0,R,num=10000):\n",
    "        v = (((G*M*i**2)/((i**2+a**2)**(3/2)))*EUP)**(1/2)\n",
    "        v_vals.append(v)\n",
    "    plt.plot(np.linspace(0,R,num=10000),v_vals)"
   ]
  },
  {
   "cell_type": "code",
   "execution_count": null,
   "metadata": {},
   "outputs": [],
   "source": [
    "v_Kuzmin_EUP = Kuzmin_EUP(10**20,10**40,10**19)"
   ]
  },
  {
   "cell_type": "code",
   "execution_count": 16,
   "metadata": {},
   "outputs": [],
   "source": [
    "def MN_EUP(R,M,a,b):\n",
    "    v_vals = []\n",
    "    G = 6.67*10**(-11)\n",
    "    c = 3*10**8\n",
    "    L_star = 10**13\n",
    "    EUP = (1+((4*G**2*M**2)/(c**4*L_star**2)))\n",
    "    for i in np.linspace(0,R,num=10000):\n",
    "        v = (((G*M*i**2)/((i**2+(a+b)**2)**(3/2)))*EUP)**(1/2)\n",
    "        v_vals.append(v)\n",
    "    return v_vals"
   ]
  },
  {
   "cell_type": "code",
   "execution_count": null,
   "metadata": {},
   "outputs": [],
   "source": [
    "#comparing changes in a and b w/ EUP\n",
    "\n",
    "v_MN_EUP1 = MN_EUP(10**20,10**40,10**19,10**19)\n",
    "v_MN_EUP2 = MN_EUP(10**20,10**40,10**18,10**18)\n",
    "v_MN_EUP3 = MN_EUP(10**20,10**40,10**20,10**20)\n",
    "v_MN_EUP4 = MN_EUP(10**20,10**40,10**19,10**18)\n",
    "v_MN_EUP5 = MN_EUP(10**20,10**40,10**20,10**18)\n",
    "\n",
    "plt.plot(np.linspace(0,R,num=10000),v_MN_EUP1,label='a=1e19, b=1e19')\n",
    "plt.plot(np.linspace(0,R,num=10000),v_MN_EUP2,label='a=1e18, b=1e18')\n",
    "plt.plot(np.linspace(0,R,num=10000),v_MN_EUP3,label='a=1e20, b=1e20')\n",
    "plt.plot(np.linspace(0,R,num=10000),v_MN_EUP4,label='a=1e19, b=1e18')\n",
    "plt.plot(np.linspace(0,R,num=10000),v_MN_EUP5,label='a=1e20, b=1e18')\n",
    "\n",
    "\n",
    "plt.xlabel('Radius (m)')\n",
    "plt.ylabel('Velocity (m/s)')\n",
    "plt.legend()\n",
    "plt.title('Comparing Changes in a and b w/ EUP')"
   ]
  },
  {
   "cell_type": "code",
   "execution_count": null,
   "metadata": {},
   "outputs": [],
   "source": [
    "def MN_EUP_L(R,M,a,b,L_star):\n",
    "    v_vals = []\n",
    "    G = 6.67*10**(-11)\n",
    "    c = 3*10**8\n",
    "    EUP = (1+((4*G**2*M**2)/(c**4*L_star**2)))\n",
    "    for i in np.linspace(0,R,num=10000):\n",
    "        v = (((G*M*i**2)/((i**2+(a+b)**2)**(3/2)))*EUP)**(1/2)\n",
    "        v_vals.append(v)\n",
    "    return v_vals"
   ]
  },
  {
   "cell_type": "code",
   "execution_count": null,
   "metadata": {},
   "outputs": [],
   "source": [
    "#comparing changes in L_star\n",
    "\n",
    "R=10**21\n",
    "\n",
    "v_MN_EUP1 = MN_EUP_L(10**21,10**40,10**20,10**20,0.5*10**12)\n",
    "v_MN_EUP2 = MN_EUP_L(10**21,10**40,10**20,10**20,10**12)\n",
    "v_MN_EUP3 = MN_EUP_L(10**21,10**40,10**20,10**20,0.5*10**13)\n",
    "v_MN_EUP4 = MN_EUP_L(10**21,10**40,10**20,10**20,10**13)\n",
    "v_MN_EUP5 = MN_EUP_L(10**21,10**40,10**20,10**20,0.5*10**14)\n",
    "\n",
    "plt.plot(np.linspace(0,R,num=10000),v_MN_EUP1,label='L=0.5e12')\n",
    "plt.plot(np.linspace(0,R,num=10000),v_MN_EUP2,label='L=1e12')\n",
    "plt.plot(np.linspace(0,R,num=10000),v_MN_EUP3,label='L=0.5e13')\n",
    "plt.plot(np.linspace(0,R,num=10000),v_MN_EUP4,label='L=1e13')\n",
    "plt.plot(np.linspace(0,R,num=10000),v_MN_EUP5,label='L=0.5e14')\n",
    "\n",
    "\n",
    "plt.xlabel('Radius (m)')\n",
    "plt.ylabel('Velocity (m/s)')\n",
    "plt.legend()\n",
    "plt.title('Comparing Changes in L* w/ EUP')"
   ]
  },
  {
   "cell_type": "code",
   "execution_count": 17,
   "metadata": {},
   "outputs": [
    {
     "data": {
      "text/plain": [
       "Text(0.5, 1.0, 'Comparing Changes in M w/ EUP for MN model')"
      ]
     },
     "execution_count": 17,
     "metadata": {},
     "output_type": "execute_result"
    },
    {
     "data": {
      "image/png": "[encoded data removed]",
      "text/plain": [
       "<Figure size 432x288 with 1 Axes>"
      ]
     },
     "metadata": {
      "needs_background": "light"
     },
     "output_type": "display_data"
    }
   ],
   "source": [
    "#trying to match EUP to non-EUP by changing M\n",
    "\n",
    "R = 10**20\n",
    "a = 10**19\n",
    "b = 10**19\n",
    "\n",
    "v_MN1 = MN(R,10**40,a,b)\n",
    "v_MN_EUP1 = MN_EUP(R,10**40,a,b)\n",
    "v_MN_EUP2 = MN_EUP(R,0.75*10**40,a,b)\n",
    "v_MN_EUP3 = MN_EUP(R,0.6*10**40,a,b)\n",
    "v_MN_EUP4 = MN_EUP(R,0.5*10**40,a,b)\n",
    "\n",
    "plt.plot(np.linspace(0,R,num=10000),v_MN1,label='non-EUP')\n",
    "plt.plot(np.linspace(0,R,num=10000),v_MN_EUP1,label='M = 1.00e40')\n",
    "plt.plot(np.linspace(0,R,num=10000),v_MN_EUP2,label='M = 0.75e40')\n",
    "plt.plot(np.linspace(0,R,num=10000),v_MN_EUP3,label='M = 0.60e40')\n",
    "plt.plot(np.linspace(0,R,num=10000),v_MN_EUP4,label='M = 0.50e40')\n",
    "\n",
    "plt.xlabel('Radius (m)')\n",
    "plt.ylabel('Velocity (m/s)')\n",
    "plt.legend()\n",
    "plt.title('Comparing Changes in M w/ EUP for MN model')"
   ]
  },
  {
   "cell_type": "code",
   "execution_count": null,
   "metadata": {},
   "outputs": [],
   "source": [
    "#Kuzmin Potential comparison with/without EUP\n",
    "def KP_Comp(R,M,a):\n",
    "    G = 6.67*10**(-11)\n",
    "    c = 3*10**8\n",
    "    L_star = 10**13\n",
    "    EUP = (1+(4*G**2*M**2)/(c**4*L_star**2))\n",
    "    \n",
    "    v_vals = []\n",
    "    v_vals_EUP = []\n",
    "    \n",
    "    for i in np.linspace(0,R,num=10000):\n",
    "        v = ((G*M*i**2)/((i**2+a**2)**(3/2)))**(1/2)\n",
    "        v_vals.append(v)\n",
    "    \n",
    "    for i in np.linspace(0,R,num=10000):\n",
    "        v_EUP = (((G*M*i**2)/((i**2+a**2)**(3/2)))*EUP)**(1/2)\n",
    "        v_vals_EUP.append(v_EUP)\n",
    "        \n",
    "    plt.plot(np.linspace(0,R,num=10000),v_vals)\n",
    "    plt.plot(np.linspace(0,R,num=10000),v_vals_EUP)"
   ]
  },
  {
   "cell_type": "code",
   "execution_count": null,
   "metadata": {},
   "outputs": [],
   "source": [
    "KP_Comp(10**20,10**40,10**19)"
   ]
  },
  {
   "cell_type": "code",
   "execution_count": null,
   "metadata": {},
   "outputs": [],
   "source": [
    "#Comparison of Rotation curves of Kuzmin and Miyamoto-Nagai Potentials w/o EUP\n",
    "def GalRot_Comp(R,M,a,b):\n",
    "    G = 6.67*10**(-11)\n",
    "\n",
    "    v_vals_K = []\n",
    "    v_vals_MN = []\n",
    "    \n",
    "    for i in np.linspace(0,R,num=10000):\n",
    "        v_K = ((G*M*i**2)/((i**2+a**2)**(3/2)))**(1/2)\n",
    "        v_vals_K.append(v_K)\n",
    "\n",
    "    for i in np.linspace(0,R,num=10000):\n",
    "        v_MN = ((G*M*i**2)/((i**2+(a+b)**2)**(3/2)))**(1/2)\n",
    "        v_vals_MN.append(v_MN)\n",
    "        \n",
    "    plt.plot(np.linspace(0,R,num=10000),v_vals_K,label='Kuzmin')\n",
    "    plt.plot(np.linspace(0,R,num=10000),v_vals_MN,label='Miyamoto-Nagai')\n",
    "    plt.xlabel('Radius (m)')\n",
    "    plt.ylabel('Velocity (m/s)')\n",
    "    plt.legend()\n",
    "    plt.title('Comparing Galaxy Rotation Curves')"
   ]
  },
  {
   "cell_type": "code",
   "execution_count": null,
   "metadata": {},
   "outputs": [],
   "source": [
    "GalRot_Comp(10**20,10**40,10**19,10**18)"
   ]
  },
  {
   "cell_type": "code",
   "execution_count": null,
   "metadata": {},
   "outputs": [],
   "source": [
    "#Comparison of Rotation curves of Kuzmin and Miyamoto-Nagai Potentials w/ EUP\n",
    "def GalRot_EUP_Comp(R,M,a,b):\n",
    "    G = 6.67*10**(-11)\n",
    "    c = 3*10**8\n",
    "    L_star = 10**13\n",
    "    EUP = (1+(4*G**2*M**2)/(c**4*L_star**2))\n",
    "    \n",
    "    v_vals_S_EUP = []\n",
    "    v_vals_K_EUP = []\n",
    "    v_vals_MN_EUP = []\n",
    "    \n",
    "    for i in np.linspace(0,R,num=10000):\n",
    "        if i == 0:\n",
    "            v_S_EUP = 0\n",
    "            v_vals_S_EUP.append(v_S_EUP)\n",
    "        else:\n",
    "            v_S_EUP = (((G*M)/i)*EUP)**(1/2)\n",
    "            v_vals_S_EUP.append(v_S_EUP)\n",
    "    \n",
    "    for i in np.linspace(0,R,num=10000):\n",
    "        v_K_EUP = (((G*M*i**2)/((i**2+a**2)**(3/2)))*EUP)**(1/2)\n",
    "        v_vals_K_EUP.append(v_K_EUP)\n",
    "\n",
    "    for i in np.linspace(0,R,num=10000):\n",
    "        v_MN_EUP = (((G*M*i**2)/((i**2+(a+b)**2)**(3/2)))*EUP)**(1/2)\n",
    "        v_vals_MN_EUP.append(v_MN_EUP)\n",
    "        \n",
    "    #plt.plot(np.linspace(0,R,num=1000),v_vals_S_EUP,label='Schwarzschild')\n",
    "    plt.plot(np.linspace(0,R,num=10000),v_vals_K_EUP,label='Kuzmin')\n",
    "    plt.plot(np.linspace(0,R,num=10000),v_vals_MN_EUP,label='Miyamoto-Nagai')\n",
    "    plt.xlabel('Radius (m)')\n",
    "    plt.ylabel('Velocity (m/s)')\n",
    "    plt.legend()\n",
    "    plt.title('Comparing Galaxy Rotation Curves w/ EUP')"
   ]
  },
  {
   "cell_type": "code",
   "execution_count": null,
   "metadata": {},
   "outputs": [],
   "source": [
    "GalRot_EUP_Comp(10**20,10**40,10**19,10**18)"
   ]
  },
  {
   "cell_type": "code",
   "execution_count": null,
   "metadata": {},
   "outputs": [],
   "source": [
    "def GalRot(R,M,a,b):\n",
    "    G = 6.67*10**(-11)\n",
    "    c = 3*10**8\n",
    "    L_star = 10**13\n",
    "    EUP = (1+(4*G**2*M**2)/(c**4*L_star**2))\n",
    "\n",
    "    v_vals_T = []\n",
    "    v_vals_TE = []\n",
    "    v_vals_K = []\n",
    "    v_vals_MN = []\n",
    "    v_vals_T_EUP = []\n",
    "    v_vals_TE_EUP = []\n",
    "    v_vals_K_EUP = []\n",
    "    v_vals_MN_EUP = []\n",
    "    \n",
    "    for i in np.linspace(0,R,num=10000):\n",
    "        ########\n",
    "        eq1 = G*M*i**2\n",
    "        eq2 = i**4+5*a**2*i**2+4*a**4\n",
    "        eq3 = (i**2+a**2)**(7/2)\n",
    "        \n",
    "        v_T = ((eq1*eq2)/eq3)**(1/2)\n",
    "        v_vals_T.append(v_T)\n",
    "        \n",
    "        v_T_EUP = ((eq1*eq2*EUP)/eq3)**(1/2)\n",
    "        v_vals_T_EUP.append(v_T_EUP)\n",
    "        ########\n",
    "        eq1_TE = G*M*i**2\n",
    "        eq2_TE = i**6+5*a**2*i**4+12*a**4*i**2+8*a**6\n",
    "        eq3_TE = (i**2+a**2)**(9/2)\n",
    "        \n",
    "        v_TE = ((eq1_TE*eq2_TE)/eq3_TE)**(1/2)\n",
    "        v_vals_TE.append(v_TE)\n",
    "        \n",
    "        v_TE_EUP = ((eq1_TE*eq2_TE*EUP)/eq3_TE)**(1/2)\n",
    "        v_vals_TE_EUP.append(v_TE_EUP)\n",
    "        ########\n",
    "        \n",
    "        v_K = ((G*M*i**2)/((i**2+a**2)**(3/2)))**(1/2)\n",
    "        v_vals_K.append(v_K)\n",
    "\n",
    "        v_MN = ((G*M*i**2)/((i**2+(a+b)**2)**(3/2)))**(1/2)\n",
    "        v_vals_MN.append(v_MN)\n",
    "    \n",
    "        v_K_EUP = (((G*M*i**2)/((i**2+a**2)**(3/2)))*EUP)**(1/2)\n",
    "        v_vals_K_EUP.append(v_K_EUP)\n",
    "\n",
    "        v_MN_EUP = (((G*M*i**2)/((i**2+(a+b)**2)**(3/2)))*EUP)**(1/2)\n",
    "        v_vals_MN_EUP.append(v_MN_EUP)\n",
    "    \n",
    "    plt.plot(np.linspace(0,R,num=10000),v_vals_T,label='Toomre')\n",
    "    plt.plot(np.linspace(0,R,num=10000),v_vals_TE,label='Toomre Expanded')\n",
    "    plt.plot(np.linspace(0,R,num=10000),v_vals_K,label='Kuzmin')\n",
    "    plt.plot(np.linspace(0,R,num=10000),v_vals_MN,label='Miyamoto-Nagai')\n",
    "    plt.plot(np.linspace(0,R,num=10000),v_vals_T_EUP,label='Toomre EUP')\n",
    "    plt.plot(np.linspace(0,R,num=10000),v_vals_TE_EUP,label='Toomre Exp EUP')\n",
    "    plt.plot(np.linspace(0,R,num=10000),v_vals_K_EUP,label='Kuzmin EUP')\n",
    "    plt.plot(np.linspace(0,R,num=10000),v_vals_MN_EUP,label='Miyamoto-Nagai EUP')\n",
    "    plt.xlabel('Radius (m)')\n",
    "    plt.ylabel('Velocity (m/s)')\n",
    "    plt.legend()\n",
    "    plt.title('Comparing Galaxy Rotation Curves w/ EUP')"
   ]
  },
  {
   "cell_type": "code",
   "execution_count": null,
   "metadata": {},
   "outputs": [],
   "source": [
    "GalRot(10**20,10**40,10**19,10**18)"
   ]
  },
  {
   "cell_type": "code",
   "execution_count": null,
   "metadata": {},
   "outputs": [],
   "source": [
    "def AppendixModel(R,M1,M2,a1,a2,b1,b2):\n",
    "    G = 6.67*10**(-11)\n",
    "    c = 3*10**8\n",
    "    L_star = 10**13\n",
    "    EUP_M1 = (1+(4*G**2*M1**2)/(c**4*L_star**2))\n",
    "    EUP_M2 = (1+(4*G**2*M2**2)/(c**4*L_star**2))\n",
    "    \n",
    "    v_vals = []\n",
    "    v_vals_EUP = []\n",
    "    \n",
    "    for i in np.linspace(0,R,num=10000):\n",
    "\n",
    "        eq1 = (G*M1)/(i**2+(a1+b1)**2)**(3/2)\n",
    "        eq2 = (G*M2)/(i**2+(a2+b2)**2)**(3/2)\n",
    "        \n",
    "        v = i*(eq1+eq2)**(1/2)\n",
    "        v_vals.append(v)\n",
    "        \n",
    "        v_EUP = i*(eq1*EUP_M2+eq2*EUP_M1)**(1/2)\n",
    "        v_vals_EUP.append(v_EUP)\n",
    "        \n",
    "    #plt.plot(np.linspace(0,R,num=10000),v_vals,label='Miyamoto')\n",
    "    plt.plot(np.linspace(0,R,num=10000),v_vals_EUP,label='Miyamoto EUP')\n",
    "    plt.xlabel('Radius (m)')\n",
    "    plt.ylabel('Velocity (m/s)')\n",
    "    plt.legend()\n",
    "    plt.title('Galaxy Rotation Curve')"
   ]
  },
  {
   "cell_type": "code",
   "execution_count": null,
   "metadata": {},
   "outputs": [],
   "source": [
    "AppendixModel(10**21,4*10**40,5*10**41,0,7*10**19,0.5*10**19,0.5*10**19)"
   ]
  },
  {
   "cell_type": "code",
   "execution_count": null,
   "metadata": {},
   "outputs": [],
   "source": [
    "#equation 6 in paper \n",
    "def Model6(R,M,a,b):\n",
    "    G = 6.67*10**(-11)\n",
    "    c = 3*10**8\n",
    "    L_star = 10**13\n",
    "    EUP = (1+(4*G**2*M**2)/(c**4*L_star**2))\n",
    "    \n",
    "    v_vals = []\n",
    "    v_vals_EUP = []\n",
    "    \n",
    "    for i in np.linspace(0,R,num=10000):\n",
    "        \n",
    "        eq1 = G*M*i**2\n",
    "        eq2 = i**4+5*a**2*i**2+4*a**4\n",
    "        eq3 = (i**2+a**2)**(7/2)\n",
    "        \n",
    "        v = ((eq1*eq2)/eq3)**(1/2)\n",
    "        v_vals.append(v)\n",
    "        \n",
    "        v_EUP = ((eq1*eq2*EUP)/eq3)**(1/2)\n",
    "        v_vals_EUP.append(v_EUP)\n",
    "        \n",
    "    plt.plot(np.linspace(0,R,num=10000),v_vals,label='Toomre')\n",
    "    plt.plot(np.linspace(0,R,num=10000),v_vals_EUP,label='Toomre EUP')\n",
    "    plt.xlabel('Radius (m)')\n",
    "    plt.ylabel('Velocity (m/s)')\n",
    "    plt.legend()\n",
    "    plt.title('Galaxy Rotation Curve')"
   ]
  },
  {
   "cell_type": "code",
   "execution_count": null,
   "metadata": {},
   "outputs": [],
   "source": [
    "Model6(10**20,10**40,10**19,10**18)"
   ]
  },
  {
   "cell_type": "code",
   "execution_count": null,
   "metadata": {},
   "outputs": [],
   "source": [
    "#equation 6 in paper \n",
    "def Model7(R,M,a,b):\n",
    "    G = 6.67*10**(-11)\n",
    "    c = 3*10**8\n",
    "    L_star = 10**13\n",
    "    EUP = (1+(4*G**2*M**2)/(c**4*L_star**2))\n",
    "    \n",
    "    v_vals = []\n",
    "    v_vals_EUP = []\n",
    "    \n",
    "    for i in np.linspace(0,R,num=10000):\n",
    "        \n",
    "        eq1_TE = G*M*i**2\n",
    "        eq2_TE = i**6+5*a**2*i**4+12*a**4*i**2+8*a**6\n",
    "        eq3_TE = (i**2+a**2)**(9/2)\n",
    "        \n",
    "        v = ((eq1_TE*eq2_TE)/eq3_TE)**(1/2)\n",
    "        v_vals.append(v)\n",
    "        \n",
    "        v_EUP = ((eq1_TE*eq2_TE*EUP)/eq3_TE)**(1/2)\n",
    "        v_vals_EUP.append(v_EUP)\n",
    "        \n",
    "    plt.plot(np.linspace(0,R,num=10000),v_vals,label='Toomre Expanded')\n",
    "    plt.plot(np.linspace(0,R,num=10000),v_vals_EUP,label='Toomre Expanded EUP')\n",
    "    plt.xlabel('Radius (m)')\n",
    "    plt.ylabel('Velocity (m/s)')\n",
    "    plt.legend()\n",
    "    plt.title('Galaxy Rotation Curve')"
   ]
  },
  {
   "cell_type": "code",
   "execution_count": null,
   "metadata": {},
   "outputs": [],
   "source": [
    "Model7(10**20,10**40,10**19,10**18)"
   ]
  },
  {
   "cell_type": "code",
   "execution_count": 2,
   "metadata": {},
   "outputs": [],
   "source": [
    "#useless\n",
    "def GalRot_GEUP(R,M,a,b):\n",
    "    G = 6.67*10**(-11)\n",
    "    c = 3*10**8\n",
    "    L_star = 10**13\n",
    "    M_Pl = 2*10**(-8)\n",
    "    GEUP = (1+((M_Pl**2)/(2*M**2))+((4*G**2*M**2)/(c**4*L_star**2)))\n",
    "\n",
    "    v_vals_K = []\n",
    "    v_vals_MN = []\n",
    "    v_vals_K_GEUP = []\n",
    "    v_vals_MN_GEUP = []\n",
    "    \n",
    "    for i in np.linspace(0,R,num=10000):\n",
    "        \n",
    "        v_K = ((G*M*i**2)/((i**2+a**2)**(3/2)))**(1/2)\n",
    "        v_vals_K.append(v_K)\n",
    "\n",
    "        v_MN = ((G*M*i**2)/((i**2+(a+b)**2)**(3/2)))**(1/2)\n",
    "        v_vals_MN.append(v_MN)\n",
    "    \n",
    "        v_K_GEUP = (((G*M*i**2)/((i**2+a**2)**(3/2)))*GEUP)**(1/2)\n",
    "        v_vals_K_GEUP.append(v_K_GEUP)\n",
    "\n",
    "        v_MN_GEUP = (((G*M*i**2)/((i**2+(a+b)**2)**(3/2)))*GEUP)**(1/2)\n",
    "        v_vals_MN_GEUP.append(v_MN_GEUP)\n",
    "    \n",
    "    plt.plot(np.linspace(0,R,num=10000),v_vals_K,label='Kuzmin')\n",
    "    plt.plot(np.linspace(0,R,num=10000),v_vals_MN,label='Miyamoto-Nagai')\n",
    "    plt.plot(np.linspace(0,R,num=10000),v_vals_K_GEUP,label='Kuzmin GEUP')\n",
    "    plt.plot(np.linspace(0,R,num=10000),v_vals_MN_GEUP,label='Miyamoto-Nagai GEUP')\n",
    "    plt.xlabel('Radius (m)')\n",
    "    plt.ylabel('Velocity (m/s)')\n",
    "    plt.legend()\n",
    "    plt.title('Comparing Galaxy Rotation Curves w/ GEUP')"
   ]
  },
  {
   "cell_type": "code",
   "execution_count": 6,
   "metadata": {},
   "outputs": [
    {
     "data": {
      "image/png": "[encoded data removed]",
      "text/plain": [
       "<Figure size 432x288 with 1 Axes>"
      ]
     },
     "metadata": {
      "needs_background": "light"
     },
     "output_type": "display_data"
    }
   ],
   "source": [
    "GalRot_GEUP(10**20,10**40,10**19,10**18)"
   ]
  },
  {
   "cell_type": "code",
   "execution_count": null,
   "metadata": {},
   "outputs": [],
   "source": []
  }
 ],
 "metadata": {
  "kernelspec": {
   "display_name": "Python 3",
   "language": "python",
   "name": "python3"
  },
  "language_info": {
   "codemirror_mode": {
    "name": "ipython",
    "version": 3
   },
   "file_extension": ".py",
   "mimetype": "text/x-python",
   "name": "python",
   "nbconvert_exporter": "python",
   "pygments_lexer": "ipython3",
   "version": "3.7.6"
  }
 },
 "nbformat": 4,
 "nbformat_minor": 4
}
